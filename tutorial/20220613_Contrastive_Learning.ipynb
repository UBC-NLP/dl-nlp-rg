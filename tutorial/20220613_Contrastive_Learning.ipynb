{
  "nbformat": 4,
  "nbformat_minor": 0,
  "metadata": {
    "colab": {
      "name": "Contrastive_Learning.ipynb",
      "provenance": [],
      "collapsed_sections": []
    },
    "kernelspec": {
      "name": "python3",
      "display_name": "Python 3"
    },
    "language_info": {
      "name": "python"
    },
    "widgets": {
      "application/vnd.jupyter.widget-state+json": {
        "03a37e37e1ce443ebbd982b3f2df7221": {
          "model_module": "@jupyter-widgets/controls",
          "model_name": "HBoxModel",
          "model_module_version": "1.5.0",
          "state": {
            "_dom_classes": [],
            "_model_module": "@jupyter-widgets/controls",
            "_model_module_version": "1.5.0",
            "_model_name": "HBoxModel",
            "_view_count": null,
            "_view_module": "@jupyter-widgets/controls",
            "_view_module_version": "1.5.0",
            "_view_name": "HBoxView",
            "box_style": "",
            "children": [
              "IPY_MODEL_b9326fdae4874ac5bad67141e0969777",
              "IPY_MODEL_57119bb6f8fe4a858b8abf092dc44b12",
              "IPY_MODEL_fbcf5e209ee545ff9e3ef7aa9d8b5ec0"
            ],
            "layout": "IPY_MODEL_f884aab2da5746df8050913fe970ae96"
          }
        },
        "b9326fdae4874ac5bad67141e0969777": {
          "model_module": "@jupyter-widgets/controls",
          "model_name": "HTMLModel",
          "model_module_version": "1.5.0",
          "state": {
            "_dom_classes": [],
            "_model_module": "@jupyter-widgets/controls",
            "_model_module_version": "1.5.0",
            "_model_name": "HTMLModel",
            "_view_count": null,
            "_view_module": "@jupyter-widgets/controls",
            "_view_module_version": "1.5.0",
            "_view_name": "HTMLView",
            "description": "",
            "description_tooltip": null,
            "layout": "IPY_MODEL_a4dd8aa8294d47889ed114e6f4152672",
            "placeholder": "​",
            "style": "IPY_MODEL_7febf24ac913406792793189c94dd2c5",
            "value": "Downloading: 100%"
          }
        },
        "57119bb6f8fe4a858b8abf092dc44b12": {
          "model_module": "@jupyter-widgets/controls",
          "model_name": "FloatProgressModel",
          "model_module_version": "1.5.0",
          "state": {
            "_dom_classes": [],
            "_model_module": "@jupyter-widgets/controls",
            "_model_module_version": "1.5.0",
            "_model_name": "FloatProgressModel",
            "_view_count": null,
            "_view_module": "@jupyter-widgets/controls",
            "_view_module_version": "1.5.0",
            "_view_name": "ProgressView",
            "bar_style": "success",
            "description": "",
            "description_tooltip": null,
            "layout": "IPY_MODEL_958498b6800f4139b707cf4fb1fdfbc2",
            "max": 481,
            "min": 0,
            "orientation": "horizontal",
            "style": "IPY_MODEL_65cc2996756b4bdbaefc0d105ee7b37e",
            "value": 481
          }
        },
        "fbcf5e209ee545ff9e3ef7aa9d8b5ec0": {
          "model_module": "@jupyter-widgets/controls",
          "model_name": "HTMLModel",
          "model_module_version": "1.5.0",
          "state": {
            "_dom_classes": [],
            "_model_module": "@jupyter-widgets/controls",
            "_model_module_version": "1.5.0",
            "_model_name": "HTMLModel",
            "_view_count": null,
            "_view_module": "@jupyter-widgets/controls",
            "_view_module_version": "1.5.0",
            "_view_name": "HTMLView",
            "description": "",
            "description_tooltip": null,
            "layout": "IPY_MODEL_93f67c59b9fd4f978e5d98ea8b044e49",
            "placeholder": "​",
            "style": "IPY_MODEL_8e38f56970fb4beda0d351f881f60de0",
            "value": " 481/481 [00:00&lt;00:00, 6.20kB/s]"
          }
        },
        "f884aab2da5746df8050913fe970ae96": {
          "model_module": "@jupyter-widgets/base",
          "model_name": "LayoutModel",
          "model_module_version": "1.2.0",
          "state": {
            "_model_module": "@jupyter-widgets/base",
            "_model_module_version": "1.2.0",
            "_model_name": "LayoutModel",
            "_view_count": null,
            "_view_module": "@jupyter-widgets/base",
            "_view_module_version": "1.2.0",
            "_view_name": "LayoutView",
            "align_content": null,
            "align_items": null,
            "align_self": null,
            "border": null,
            "bottom": null,
            "display": null,
            "flex": null,
            "flex_flow": null,
            "grid_area": null,
            "grid_auto_columns": null,
            "grid_auto_flow": null,
            "grid_auto_rows": null,
            "grid_column": null,
            "grid_gap": null,
            "grid_row": null,
            "grid_template_areas": null,
            "grid_template_columns": null,
            "grid_template_rows": null,
            "height": null,
            "justify_content": null,
            "justify_items": null,
            "left": null,
            "margin": null,
            "max_height": null,
            "max_width": null,
            "min_height": null,
            "min_width": null,
            "object_fit": null,
            "object_position": null,
            "order": null,
            "overflow": null,
            "overflow_x": null,
            "overflow_y": null,
            "padding": null,
            "right": null,
            "top": null,
            "visibility": null,
            "width": null
          }
        },
        "a4dd8aa8294d47889ed114e6f4152672": {
          "model_module": "@jupyter-widgets/base",
          "model_name": "LayoutModel",
          "model_module_version": "1.2.0",
          "state": {
            "_model_module": "@jupyter-widgets/base",
            "_model_module_version": "1.2.0",
            "_model_name": "LayoutModel",
            "_view_count": null,
            "_view_module": "@jupyter-widgets/base",
            "_view_module_version": "1.2.0",
            "_view_name": "LayoutView",
            "align_content": null,
            "align_items": null,
            "align_self": null,
            "border": null,
            "bottom": null,
            "display": null,
            "flex": null,
            "flex_flow": null,
            "grid_area": null,
            "grid_auto_columns": null,
            "grid_auto_flow": null,
            "grid_auto_rows": null,
            "grid_column": null,
            "grid_gap": null,
            "grid_row": null,
            "grid_template_areas": null,
            "grid_template_columns": null,
            "grid_template_rows": null,
            "height": null,
            "justify_content": null,
            "justify_items": null,
            "left": null,
            "margin": null,
            "max_height": null,
            "max_width": null,
            "min_height": null,
            "min_width": null,
            "object_fit": null,
            "object_position": null,
            "order": null,
            "overflow": null,
            "overflow_x": null,
            "overflow_y": null,
            "padding": null,
            "right": null,
            "top": null,
            "visibility": null,
            "width": null
          }
        },
        "7febf24ac913406792793189c94dd2c5": {
          "model_module": "@jupyter-widgets/controls",
          "model_name": "DescriptionStyleModel",
          "model_module_version": "1.5.0",
          "state": {
            "_model_module": "@jupyter-widgets/controls",
            "_model_module_version": "1.5.0",
            "_model_name": "DescriptionStyleModel",
            "_view_count": null,
            "_view_module": "@jupyter-widgets/base",
            "_view_module_version": "1.2.0",
            "_view_name": "StyleView",
            "description_width": ""
          }
        },
        "958498b6800f4139b707cf4fb1fdfbc2": {
          "model_module": "@jupyter-widgets/base",
          "model_name": "LayoutModel",
          "model_module_version": "1.2.0",
          "state": {
            "_model_module": "@jupyter-widgets/base",
            "_model_module_version": "1.2.0",
            "_model_name": "LayoutModel",
            "_view_count": null,
            "_view_module": "@jupyter-widgets/base",
            "_view_module_version": "1.2.0",
            "_view_name": "LayoutView",
            "align_content": null,
            "align_items": null,
            "align_self": null,
            "border": null,
            "bottom": null,
            "display": null,
            "flex": null,
            "flex_flow": null,
            "grid_area": null,
            "grid_auto_columns": null,
            "grid_auto_flow": null,
            "grid_auto_rows": null,
            "grid_column": null,
            "grid_gap": null,
            "grid_row": null,
            "grid_template_areas": null,
            "grid_template_columns": null,
            "grid_template_rows": null,
            "height": null,
            "justify_content": null,
            "justify_items": null,
            "left": null,
            "margin": null,
            "max_height": null,
            "max_width": null,
            "min_height": null,
            "min_width": null,
            "object_fit": null,
            "object_position": null,
            "order": null,
            "overflow": null,
            "overflow_x": null,
            "overflow_y": null,
            "padding": null,
            "right": null,
            "top": null,
            "visibility": null,
            "width": null
          }
        },
        "65cc2996756b4bdbaefc0d105ee7b37e": {
          "model_module": "@jupyter-widgets/controls",
          "model_name": "ProgressStyleModel",
          "model_module_version": "1.5.0",
          "state": {
            "_model_module": "@jupyter-widgets/controls",
            "_model_module_version": "1.5.0",
            "_model_name": "ProgressStyleModel",
            "_view_count": null,
            "_view_module": "@jupyter-widgets/base",
            "_view_module_version": "1.2.0",
            "_view_name": "StyleView",
            "bar_color": null,
            "description_width": ""
          }
        },
        "93f67c59b9fd4f978e5d98ea8b044e49": {
          "model_module": "@jupyter-widgets/base",
          "model_name": "LayoutModel",
          "model_module_version": "1.2.0",
          "state": {
            "_model_module": "@jupyter-widgets/base",
            "_model_module_version": "1.2.0",
            "_model_name": "LayoutModel",
            "_view_count": null,
            "_view_module": "@jupyter-widgets/base",
            "_view_module_version": "1.2.0",
            "_view_name": "LayoutView",
            "align_content": null,
            "align_items": null,
            "align_self": null,
            "border": null,
            "bottom": null,
            "display": null,
            "flex": null,
            "flex_flow": null,
            "grid_area": null,
            "grid_auto_columns": null,
            "grid_auto_flow": null,
            "grid_auto_rows": null,
            "grid_column": null,
            "grid_gap": null,
            "grid_row": null,
            "grid_template_areas": null,
            "grid_template_columns": null,
            "grid_template_rows": null,
            "height": null,
            "justify_content": null,
            "justify_items": null,
            "left": null,
            "margin": null,
            "max_height": null,
            "max_width": null,
            "min_height": null,
            "min_width": null,
            "object_fit": null,
            "object_position": null,
            "order": null,
            "overflow": null,
            "overflow_x": null,
            "overflow_y": null,
            "padding": null,
            "right": null,
            "top": null,
            "visibility": null,
            "width": null
          }
        },
        "8e38f56970fb4beda0d351f881f60de0": {
          "model_module": "@jupyter-widgets/controls",
          "model_name": "DescriptionStyleModel",
          "model_module_version": "1.5.0",
          "state": {
            "_model_module": "@jupyter-widgets/controls",
            "_model_module_version": "1.5.0",
            "_model_name": "DescriptionStyleModel",
            "_view_count": null,
            "_view_module": "@jupyter-widgets/base",
            "_view_module_version": "1.2.0",
            "_view_name": "StyleView",
            "description_width": ""
          }
        },
        "73503d0261ca42088c7e1763cdd43cc8": {
          "model_module": "@jupyter-widgets/controls",
          "model_name": "HBoxModel",
          "model_module_version": "1.5.0",
          "state": {
            "_dom_classes": [],
            "_model_module": "@jupyter-widgets/controls",
            "_model_module_version": "1.5.0",
            "_model_name": "HBoxModel",
            "_view_count": null,
            "_view_module": "@jupyter-widgets/controls",
            "_view_module_version": "1.5.0",
            "_view_name": "HBoxView",
            "box_style": "",
            "children": [
              "IPY_MODEL_16f31cb4b6b24d0da649d9f61d58bb0f",
              "IPY_MODEL_93db4bff5b0344adaf0401bd1eca7c75",
              "IPY_MODEL_a76af56fc3834df5bf5bee140219794a"
            ],
            "layout": "IPY_MODEL_a44d2b846f7b4e9a9e9956e90767f252"
          }
        },
        "16f31cb4b6b24d0da649d9f61d58bb0f": {
          "model_module": "@jupyter-widgets/controls",
          "model_name": "HTMLModel",
          "model_module_version": "1.5.0",
          "state": {
            "_dom_classes": [],
            "_model_module": "@jupyter-widgets/controls",
            "_model_module_version": "1.5.0",
            "_model_name": "HTMLModel",
            "_view_count": null,
            "_view_module": "@jupyter-widgets/controls",
            "_view_module_version": "1.5.0",
            "_view_name": "HTMLView",
            "description": "",
            "description_tooltip": null,
            "layout": "IPY_MODEL_040f691be65746d58cdfe4c9570e3791",
            "placeholder": "​",
            "style": "IPY_MODEL_adbff90a935b4123b92aeea064256fae",
            "value": "Downloading: 100%"
          }
        },
        "93db4bff5b0344adaf0401bd1eca7c75": {
          "model_module": "@jupyter-widgets/controls",
          "model_name": "FloatProgressModel",
          "model_module_version": "1.5.0",
          "state": {
            "_dom_classes": [],
            "_model_module": "@jupyter-widgets/controls",
            "_model_module_version": "1.5.0",
            "_model_name": "FloatProgressModel",
            "_view_count": null,
            "_view_module": "@jupyter-widgets/controls",
            "_view_module_version": "1.5.0",
            "_view_name": "ProgressView",
            "bar_style": "success",
            "description": "",
            "description_tooltip": null,
            "layout": "IPY_MODEL_fde7f29a23c048faaf0549c875619615",
            "max": 898823,
            "min": 0,
            "orientation": "horizontal",
            "style": "IPY_MODEL_aa2a3686ff4049ec9eed607b41bfb8e1",
            "value": 898823
          }
        },
        "a76af56fc3834df5bf5bee140219794a": {
          "model_module": "@jupyter-widgets/controls",
          "model_name": "HTMLModel",
          "model_module_version": "1.5.0",
          "state": {
            "_dom_classes": [],
            "_model_module": "@jupyter-widgets/controls",
            "_model_module_version": "1.5.0",
            "_model_name": "HTMLModel",
            "_view_count": null,
            "_view_module": "@jupyter-widgets/controls",
            "_view_module_version": "1.5.0",
            "_view_name": "HTMLView",
            "description": "",
            "description_tooltip": null,
            "layout": "IPY_MODEL_5aad818bd11f41088a527f4002261995",
            "placeholder": "​",
            "style": "IPY_MODEL_38f12dac16e04466ba232806c2c11dc4",
            "value": " 878k/878k [00:00&lt;00:00, 3.12MB/s]"
          }
        },
        "a44d2b846f7b4e9a9e9956e90767f252": {
          "model_module": "@jupyter-widgets/base",
          "model_name": "LayoutModel",
          "model_module_version": "1.2.0",
          "state": {
            "_model_module": "@jupyter-widgets/base",
            "_model_module_version": "1.2.0",
            "_model_name": "LayoutModel",
            "_view_count": null,
            "_view_module": "@jupyter-widgets/base",
            "_view_module_version": "1.2.0",
            "_view_name": "LayoutView",
            "align_content": null,
            "align_items": null,
            "align_self": null,
            "border": null,
            "bottom": null,
            "display": null,
            "flex": null,
            "flex_flow": null,
            "grid_area": null,
            "grid_auto_columns": null,
            "grid_auto_flow": null,
            "grid_auto_rows": null,
            "grid_column": null,
            "grid_gap": null,
            "grid_row": null,
            "grid_template_areas": null,
            "grid_template_columns": null,
            "grid_template_rows": null,
            "height": null,
            "justify_content": null,
            "justify_items": null,
            "left": null,
            "margin": null,
            "max_height": null,
            "max_width": null,
            "min_height": null,
            "min_width": null,
            "object_fit": null,
            "object_position": null,
            "order": null,
            "overflow": null,
            "overflow_x": null,
            "overflow_y": null,
            "padding": null,
            "right": null,
            "top": null,
            "visibility": null,
            "width": null
          }
        },
        "040f691be65746d58cdfe4c9570e3791": {
          "model_module": "@jupyter-widgets/base",
          "model_name": "LayoutModel",
          "model_module_version": "1.2.0",
          "state": {
            "_model_module": "@jupyter-widgets/base",
            "_model_module_version": "1.2.0",
            "_model_name": "LayoutModel",
            "_view_count": null,
            "_view_module": "@jupyter-widgets/base",
            "_view_module_version": "1.2.0",
            "_view_name": "LayoutView",
            "align_content": null,
            "align_items": null,
            "align_self": null,
            "border": null,
            "bottom": null,
            "display": null,
            "flex": null,
            "flex_flow": null,
            "grid_area": null,
            "grid_auto_columns": null,
            "grid_auto_flow": null,
            "grid_auto_rows": null,
            "grid_column": null,
            "grid_gap": null,
            "grid_row": null,
            "grid_template_areas": null,
            "grid_template_columns": null,
            "grid_template_rows": null,
            "height": null,
            "justify_content": null,
            "justify_items": null,
            "left": null,
            "margin": null,
            "max_height": null,
            "max_width": null,
            "min_height": null,
            "min_width": null,
            "object_fit": null,
            "object_position": null,
            "order": null,
            "overflow": null,
            "overflow_x": null,
            "overflow_y": null,
            "padding": null,
            "right": null,
            "top": null,
            "visibility": null,
            "width": null
          }
        },
        "adbff90a935b4123b92aeea064256fae": {
          "model_module": "@jupyter-widgets/controls",
          "model_name": "DescriptionStyleModel",
          "model_module_version": "1.5.0",
          "state": {
            "_model_module": "@jupyter-widgets/controls",
            "_model_module_version": "1.5.0",
            "_model_name": "DescriptionStyleModel",
            "_view_count": null,
            "_view_module": "@jupyter-widgets/base",
            "_view_module_version": "1.2.0",
            "_view_name": "StyleView",
            "description_width": ""
          }
        },
        "fde7f29a23c048faaf0549c875619615": {
          "model_module": "@jupyter-widgets/base",
          "model_name": "LayoutModel",
          "model_module_version": "1.2.0",
          "state": {
            "_model_module": "@jupyter-widgets/base",
            "_model_module_version": "1.2.0",
            "_model_name": "LayoutModel",
            "_view_count": null,
            "_view_module": "@jupyter-widgets/base",
            "_view_module_version": "1.2.0",
            "_view_name": "LayoutView",
            "align_content": null,
            "align_items": null,
            "align_self": null,
            "border": null,
            "bottom": null,
            "display": null,
            "flex": null,
            "flex_flow": null,
            "grid_area": null,
            "grid_auto_columns": null,
            "grid_auto_flow": null,
            "grid_auto_rows": null,
            "grid_column": null,
            "grid_gap": null,
            "grid_row": null,
            "grid_template_areas": null,
            "grid_template_columns": null,
            "grid_template_rows": null,
            "height": null,
            "justify_content": null,
            "justify_items": null,
            "left": null,
            "margin": null,
            "max_height": null,
            "max_width": null,
            "min_height": null,
            "min_width": null,
            "object_fit": null,
            "object_position": null,
            "order": null,
            "overflow": null,
            "overflow_x": null,
            "overflow_y": null,
            "padding": null,
            "right": null,
            "top": null,
            "visibility": null,
            "width": null
          }
        },
        "aa2a3686ff4049ec9eed607b41bfb8e1": {
          "model_module": "@jupyter-widgets/controls",
          "model_name": "ProgressStyleModel",
          "model_module_version": "1.5.0",
          "state": {
            "_model_module": "@jupyter-widgets/controls",
            "_model_module_version": "1.5.0",
            "_model_name": "ProgressStyleModel",
            "_view_count": null,
            "_view_module": "@jupyter-widgets/base",
            "_view_module_version": "1.2.0",
            "_view_name": "StyleView",
            "bar_color": null,
            "description_width": ""
          }
        },
        "5aad818bd11f41088a527f4002261995": {
          "model_module": "@jupyter-widgets/base",
          "model_name": "LayoutModel",
          "model_module_version": "1.2.0",
          "state": {
            "_model_module": "@jupyter-widgets/base",
            "_model_module_version": "1.2.0",
            "_model_name": "LayoutModel",
            "_view_count": null,
            "_view_module": "@jupyter-widgets/base",
            "_view_module_version": "1.2.0",
            "_view_name": "LayoutView",
            "align_content": null,
            "align_items": null,
            "align_self": null,
            "border": null,
            "bottom": null,
            "display": null,
            "flex": null,
            "flex_flow": null,
            "grid_area": null,
            "grid_auto_columns": null,
            "grid_auto_flow": null,
            "grid_auto_rows": null,
            "grid_column": null,
            "grid_gap": null,
            "grid_row": null,
            "grid_template_areas": null,
            "grid_template_columns": null,
            "grid_template_rows": null,
            "height": null,
            "justify_content": null,
            "justify_items": null,
            "left": null,
            "margin": null,
            "max_height": null,
            "max_width": null,
            "min_height": null,
            "min_width": null,
            "object_fit": null,
            "object_position": null,
            "order": null,
            "overflow": null,
            "overflow_x": null,
            "overflow_y": null,
            "padding": null,
            "right": null,
            "top": null,
            "visibility": null,
            "width": null
          }
        },
        "38f12dac16e04466ba232806c2c11dc4": {
          "model_module": "@jupyter-widgets/controls",
          "model_name": "DescriptionStyleModel",
          "model_module_version": "1.5.0",
          "state": {
            "_model_module": "@jupyter-widgets/controls",
            "_model_module_version": "1.5.0",
            "_model_name": "DescriptionStyleModel",
            "_view_count": null,
            "_view_module": "@jupyter-widgets/base",
            "_view_module_version": "1.2.0",
            "_view_name": "StyleView",
            "description_width": ""
          }
        },
        "8ed81c2b6666424ab7a8ed98bbe93367": {
          "model_module": "@jupyter-widgets/controls",
          "model_name": "HBoxModel",
          "model_module_version": "1.5.0",
          "state": {
            "_dom_classes": [],
            "_model_module": "@jupyter-widgets/controls",
            "_model_module_version": "1.5.0",
            "_model_name": "HBoxModel",
            "_view_count": null,
            "_view_module": "@jupyter-widgets/controls",
            "_view_module_version": "1.5.0",
            "_view_name": "HBoxView",
            "box_style": "",
            "children": [
              "IPY_MODEL_2da32547f57f48c0bdeaa5e6fcdd08ed",
              "IPY_MODEL_c2e0362767cf4f23acb979a577e804f5",
              "IPY_MODEL_9bed38d541f74952bc3586d8f4033090"
            ],
            "layout": "IPY_MODEL_741ec776456f471ba45d8ec9a4e09143"
          }
        },
        "2da32547f57f48c0bdeaa5e6fcdd08ed": {
          "model_module": "@jupyter-widgets/controls",
          "model_name": "HTMLModel",
          "model_module_version": "1.5.0",
          "state": {
            "_dom_classes": [],
            "_model_module": "@jupyter-widgets/controls",
            "_model_module_version": "1.5.0",
            "_model_name": "HTMLModel",
            "_view_count": null,
            "_view_module": "@jupyter-widgets/controls",
            "_view_module_version": "1.5.0",
            "_view_name": "HTMLView",
            "description": "",
            "description_tooltip": null,
            "layout": "IPY_MODEL_1464cfb63e02443ba86de241558b6e57",
            "placeholder": "​",
            "style": "IPY_MODEL_616bc20ff10f45a4838a46eb9afec250",
            "value": "Downloading: 100%"
          }
        },
        "c2e0362767cf4f23acb979a577e804f5": {
          "model_module": "@jupyter-widgets/controls",
          "model_name": "FloatProgressModel",
          "model_module_version": "1.5.0",
          "state": {
            "_dom_classes": [],
            "_model_module": "@jupyter-widgets/controls",
            "_model_module_version": "1.5.0",
            "_model_name": "FloatProgressModel",
            "_view_count": null,
            "_view_module": "@jupyter-widgets/controls",
            "_view_module_version": "1.5.0",
            "_view_name": "ProgressView",
            "bar_style": "success",
            "description": "",
            "description_tooltip": null,
            "layout": "IPY_MODEL_5f8bc04b6c6c4de3bc828dd321341c20",
            "max": 456318,
            "min": 0,
            "orientation": "horizontal",
            "style": "IPY_MODEL_7763832156124090be8153a64ed85b97",
            "value": 456318
          }
        },
        "9bed38d541f74952bc3586d8f4033090": {
          "model_module": "@jupyter-widgets/controls",
          "model_name": "HTMLModel",
          "model_module_version": "1.5.0",
          "state": {
            "_dom_classes": [],
            "_model_module": "@jupyter-widgets/controls",
            "_model_module_version": "1.5.0",
            "_model_name": "HTMLModel",
            "_view_count": null,
            "_view_module": "@jupyter-widgets/controls",
            "_view_module_version": "1.5.0",
            "_view_name": "HTMLView",
            "description": "",
            "description_tooltip": null,
            "layout": "IPY_MODEL_d7fb851b45ae440a9191d5c4e8efec55",
            "placeholder": "​",
            "style": "IPY_MODEL_8aa51e3a86e044abad2f801147cf8452",
            "value": " 446k/446k [00:00&lt;00:00, 837kB/s]"
          }
        },
        "741ec776456f471ba45d8ec9a4e09143": {
          "model_module": "@jupyter-widgets/base",
          "model_name": "LayoutModel",
          "model_module_version": "1.2.0",
          "state": {
            "_model_module": "@jupyter-widgets/base",
            "_model_module_version": "1.2.0",
            "_model_name": "LayoutModel",
            "_view_count": null,
            "_view_module": "@jupyter-widgets/base",
            "_view_module_version": "1.2.0",
            "_view_name": "LayoutView",
            "align_content": null,
            "align_items": null,
            "align_self": null,
            "border": null,
            "bottom": null,
            "display": null,
            "flex": null,
            "flex_flow": null,
            "grid_area": null,
            "grid_auto_columns": null,
            "grid_auto_flow": null,
            "grid_auto_rows": null,
            "grid_column": null,
            "grid_gap": null,
            "grid_row": null,
            "grid_template_areas": null,
            "grid_template_columns": null,
            "grid_template_rows": null,
            "height": null,
            "justify_content": null,
            "justify_items": null,
            "left": null,
            "margin": null,
            "max_height": null,
            "max_width": null,
            "min_height": null,
            "min_width": null,
            "object_fit": null,
            "object_position": null,
            "order": null,
            "overflow": null,
            "overflow_x": null,
            "overflow_y": null,
            "padding": null,
            "right": null,
            "top": null,
            "visibility": null,
            "width": null
          }
        },
        "1464cfb63e02443ba86de241558b6e57": {
          "model_module": "@jupyter-widgets/base",
          "model_name": "LayoutModel",
          "model_module_version": "1.2.0",
          "state": {
            "_model_module": "@jupyter-widgets/base",
            "_model_module_version": "1.2.0",
            "_model_name": "LayoutModel",
            "_view_count": null,
            "_view_module": "@jupyter-widgets/base",
            "_view_module_version": "1.2.0",
            "_view_name": "LayoutView",
            "align_content": null,
            "align_items": null,
            "align_self": null,
            "border": null,
            "bottom": null,
            "display": null,
            "flex": null,
            "flex_flow": null,
            "grid_area": null,
            "grid_auto_columns": null,
            "grid_auto_flow": null,
            "grid_auto_rows": null,
            "grid_column": null,
            "grid_gap": null,
            "grid_row": null,
            "grid_template_areas": null,
            "grid_template_columns": null,
            "grid_template_rows": null,
            "height": null,
            "justify_content": null,
            "justify_items": null,
            "left": null,
            "margin": null,
            "max_height": null,
            "max_width": null,
            "min_height": null,
            "min_width": null,
            "object_fit": null,
            "object_position": null,
            "order": null,
            "overflow": null,
            "overflow_x": null,
            "overflow_y": null,
            "padding": null,
            "right": null,
            "top": null,
            "visibility": null,
            "width": null
          }
        },
        "616bc20ff10f45a4838a46eb9afec250": {
          "model_module": "@jupyter-widgets/controls",
          "model_name": "DescriptionStyleModel",
          "model_module_version": "1.5.0",
          "state": {
            "_model_module": "@jupyter-widgets/controls",
            "_model_module_version": "1.5.0",
            "_model_name": "DescriptionStyleModel",
            "_view_count": null,
            "_view_module": "@jupyter-widgets/base",
            "_view_module_version": "1.2.0",
            "_view_name": "StyleView",
            "description_width": ""
          }
        },
        "5f8bc04b6c6c4de3bc828dd321341c20": {
          "model_module": "@jupyter-widgets/base",
          "model_name": "LayoutModel",
          "model_module_version": "1.2.0",
          "state": {
            "_model_module": "@jupyter-widgets/base",
            "_model_module_version": "1.2.0",
            "_model_name": "LayoutModel",
            "_view_count": null,
            "_view_module": "@jupyter-widgets/base",
            "_view_module_version": "1.2.0",
            "_view_name": "LayoutView",
            "align_content": null,
            "align_items": null,
            "align_self": null,
            "border": null,
            "bottom": null,
            "display": null,
            "flex": null,
            "flex_flow": null,
            "grid_area": null,
            "grid_auto_columns": null,
            "grid_auto_flow": null,
            "grid_auto_rows": null,
            "grid_column": null,
            "grid_gap": null,
            "grid_row": null,
            "grid_template_areas": null,
            "grid_template_columns": null,
            "grid_template_rows": null,
            "height": null,
            "justify_content": null,
            "justify_items": null,
            "left": null,
            "margin": null,
            "max_height": null,
            "max_width": null,
            "min_height": null,
            "min_width": null,
            "object_fit": null,
            "object_position": null,
            "order": null,
            "overflow": null,
            "overflow_x": null,
            "overflow_y": null,
            "padding": null,
            "right": null,
            "top": null,
            "visibility": null,
            "width": null
          }
        },
        "7763832156124090be8153a64ed85b97": {
          "model_module": "@jupyter-widgets/controls",
          "model_name": "ProgressStyleModel",
          "model_module_version": "1.5.0",
          "state": {
            "_model_module": "@jupyter-widgets/controls",
            "_model_module_version": "1.5.0",
            "_model_name": "ProgressStyleModel",
            "_view_count": null,
            "_view_module": "@jupyter-widgets/base",
            "_view_module_version": "1.2.0",
            "_view_name": "StyleView",
            "bar_color": null,
            "description_width": ""
          }
        },
        "d7fb851b45ae440a9191d5c4e8efec55": {
          "model_module": "@jupyter-widgets/base",
          "model_name": "LayoutModel",
          "model_module_version": "1.2.0",
          "state": {
            "_model_module": "@jupyter-widgets/base",
            "_model_module_version": "1.2.0",
            "_model_name": "LayoutModel",
            "_view_count": null,
            "_view_module": "@jupyter-widgets/base",
            "_view_module_version": "1.2.0",
            "_view_name": "LayoutView",
            "align_content": null,
            "align_items": null,
            "align_self": null,
            "border": null,
            "bottom": null,
            "display": null,
            "flex": null,
            "flex_flow": null,
            "grid_area": null,
            "grid_auto_columns": null,
            "grid_auto_flow": null,
            "grid_auto_rows": null,
            "grid_column": null,
            "grid_gap": null,
            "grid_row": null,
            "grid_template_areas": null,
            "grid_template_columns": null,
            "grid_template_rows": null,
            "height": null,
            "justify_content": null,
            "justify_items": null,
            "left": null,
            "margin": null,
            "max_height": null,
            "max_width": null,
            "min_height": null,
            "min_width": null,
            "object_fit": null,
            "object_position": null,
            "order": null,
            "overflow": null,
            "overflow_x": null,
            "overflow_y": null,
            "padding": null,
            "right": null,
            "top": null,
            "visibility": null,
            "width": null
          }
        },
        "8aa51e3a86e044abad2f801147cf8452": {
          "model_module": "@jupyter-widgets/controls",
          "model_name": "DescriptionStyleModel",
          "model_module_version": "1.5.0",
          "state": {
            "_model_module": "@jupyter-widgets/controls",
            "_model_module_version": "1.5.0",
            "_model_name": "DescriptionStyleModel",
            "_view_count": null,
            "_view_module": "@jupyter-widgets/base",
            "_view_module_version": "1.2.0",
            "_view_name": "StyleView",
            "description_width": ""
          }
        },
        "69b64218aa8e4a37a43dbe43e17b1343": {
          "model_module": "@jupyter-widgets/controls",
          "model_name": "HBoxModel",
          "model_module_version": "1.5.0",
          "state": {
            "_dom_classes": [],
            "_model_module": "@jupyter-widgets/controls",
            "_model_module_version": "1.5.0",
            "_model_name": "HBoxModel",
            "_view_count": null,
            "_view_module": "@jupyter-widgets/controls",
            "_view_module_version": "1.5.0",
            "_view_name": "HBoxView",
            "box_style": "",
            "children": [
              "IPY_MODEL_94580449cdcd447e87752be9cc8d099a",
              "IPY_MODEL_6ff1dc53878c4575af8616d6bb5e975d",
              "IPY_MODEL_8cffb8286a2d48038f9655f345f78e83"
            ],
            "layout": "IPY_MODEL_3ea1cc1b12b644faaf982e948aba0c61"
          }
        },
        "94580449cdcd447e87752be9cc8d099a": {
          "model_module": "@jupyter-widgets/controls",
          "model_name": "HTMLModel",
          "model_module_version": "1.5.0",
          "state": {
            "_dom_classes": [],
            "_model_module": "@jupyter-widgets/controls",
            "_model_module_version": "1.5.0",
            "_model_name": "HTMLModel",
            "_view_count": null,
            "_view_module": "@jupyter-widgets/controls",
            "_view_module_version": "1.5.0",
            "_view_name": "HTMLView",
            "description": "",
            "description_tooltip": null,
            "layout": "IPY_MODEL_a31895e060f540748f15b0e41fed517b",
            "placeholder": "​",
            "style": "IPY_MODEL_b66c7dea0e97438eb023bb6e600c37ec",
            "value": "Downloading: 100%"
          }
        },
        "6ff1dc53878c4575af8616d6bb5e975d": {
          "model_module": "@jupyter-widgets/controls",
          "model_name": "FloatProgressModel",
          "model_module_version": "1.5.0",
          "state": {
            "_dom_classes": [],
            "_model_module": "@jupyter-widgets/controls",
            "_model_module_version": "1.5.0",
            "_model_name": "FloatProgressModel",
            "_view_count": null,
            "_view_module": "@jupyter-widgets/controls",
            "_view_module_version": "1.5.0",
            "_view_name": "ProgressView",
            "bar_style": "success",
            "description": "",
            "description_tooltip": null,
            "layout": "IPY_MODEL_9aba86f4a9a04fa78167ed67c7beb662",
            "max": 1355863,
            "min": 0,
            "orientation": "horizontal",
            "style": "IPY_MODEL_e95c6cf7ac1f4f6d8c992e23456aaefb",
            "value": 1355863
          }
        },
        "8cffb8286a2d48038f9655f345f78e83": {
          "model_module": "@jupyter-widgets/controls",
          "model_name": "HTMLModel",
          "model_module_version": "1.5.0",
          "state": {
            "_dom_classes": [],
            "_model_module": "@jupyter-widgets/controls",
            "_model_module_version": "1.5.0",
            "_model_name": "HTMLModel",
            "_view_count": null,
            "_view_module": "@jupyter-widgets/controls",
            "_view_module_version": "1.5.0",
            "_view_name": "HTMLView",
            "description": "",
            "description_tooltip": null,
            "layout": "IPY_MODEL_c2a61ec35177472fb307d9af33a8f9b3",
            "placeholder": "​",
            "style": "IPY_MODEL_4b877c43690c4d4bbc045a86da1ba194",
            "value": " 1.29M/1.29M [00:00&lt;00:00, 3.77MB/s]"
          }
        },
        "3ea1cc1b12b644faaf982e948aba0c61": {
          "model_module": "@jupyter-widgets/base",
          "model_name": "LayoutModel",
          "model_module_version": "1.2.0",
          "state": {
            "_model_module": "@jupyter-widgets/base",
            "_model_module_version": "1.2.0",
            "_model_name": "LayoutModel",
            "_view_count": null,
            "_view_module": "@jupyter-widgets/base",
            "_view_module_version": "1.2.0",
            "_view_name": "LayoutView",
            "align_content": null,
            "align_items": null,
            "align_self": null,
            "border": null,
            "bottom": null,
            "display": null,
            "flex": null,
            "flex_flow": null,
            "grid_area": null,
            "grid_auto_columns": null,
            "grid_auto_flow": null,
            "grid_auto_rows": null,
            "grid_column": null,
            "grid_gap": null,
            "grid_row": null,
            "grid_template_areas": null,
            "grid_template_columns": null,
            "grid_template_rows": null,
            "height": null,
            "justify_content": null,
            "justify_items": null,
            "left": null,
            "margin": null,
            "max_height": null,
            "max_width": null,
            "min_height": null,
            "min_width": null,
            "object_fit": null,
            "object_position": null,
            "order": null,
            "overflow": null,
            "overflow_x": null,
            "overflow_y": null,
            "padding": null,
            "right": null,
            "top": null,
            "visibility": null,
            "width": null
          }
        },
        "a31895e060f540748f15b0e41fed517b": {
          "model_module": "@jupyter-widgets/base",
          "model_name": "LayoutModel",
          "model_module_version": "1.2.0",
          "state": {
            "_model_module": "@jupyter-widgets/base",
            "_model_module_version": "1.2.0",
            "_model_name": "LayoutModel",
            "_view_count": null,
            "_view_module": "@jupyter-widgets/base",
            "_view_module_version": "1.2.0",
            "_view_name": "LayoutView",
            "align_content": null,
            "align_items": null,
            "align_self": null,
            "border": null,
            "bottom": null,
            "display": null,
            "flex": null,
            "flex_flow": null,
            "grid_area": null,
            "grid_auto_columns": null,
            "grid_auto_flow": null,
            "grid_auto_rows": null,
            "grid_column": null,
            "grid_gap": null,
            "grid_row": null,
            "grid_template_areas": null,
            "grid_template_columns": null,
            "grid_template_rows": null,
            "height": null,
            "justify_content": null,
            "justify_items": null,
            "left": null,
            "margin": null,
            "max_height": null,
            "max_width": null,
            "min_height": null,
            "min_width": null,
            "object_fit": null,
            "object_position": null,
            "order": null,
            "overflow": null,
            "overflow_x": null,
            "overflow_y": null,
            "padding": null,
            "right": null,
            "top": null,
            "visibility": null,
            "width": null
          }
        },
        "b66c7dea0e97438eb023bb6e600c37ec": {
          "model_module": "@jupyter-widgets/controls",
          "model_name": "DescriptionStyleModel",
          "model_module_version": "1.5.0",
          "state": {
            "_model_module": "@jupyter-widgets/controls",
            "_model_module_version": "1.5.0",
            "_model_name": "DescriptionStyleModel",
            "_view_count": null,
            "_view_module": "@jupyter-widgets/base",
            "_view_module_version": "1.2.0",
            "_view_name": "StyleView",
            "description_width": ""
          }
        },
        "9aba86f4a9a04fa78167ed67c7beb662": {
          "model_module": "@jupyter-widgets/base",
          "model_name": "LayoutModel",
          "model_module_version": "1.2.0",
          "state": {
            "_model_module": "@jupyter-widgets/base",
            "_model_module_version": "1.2.0",
            "_model_name": "LayoutModel",
            "_view_count": null,
            "_view_module": "@jupyter-widgets/base",
            "_view_module_version": "1.2.0",
            "_view_name": "LayoutView",
            "align_content": null,
            "align_items": null,
            "align_self": null,
            "border": null,
            "bottom": null,
            "display": null,
            "flex": null,
            "flex_flow": null,
            "grid_area": null,
            "grid_auto_columns": null,
            "grid_auto_flow": null,
            "grid_auto_rows": null,
            "grid_column": null,
            "grid_gap": null,
            "grid_row": null,
            "grid_template_areas": null,
            "grid_template_columns": null,
            "grid_template_rows": null,
            "height": null,
            "justify_content": null,
            "justify_items": null,
            "left": null,
            "margin": null,
            "max_height": null,
            "max_width": null,
            "min_height": null,
            "min_width": null,
            "object_fit": null,
            "object_position": null,
            "order": null,
            "overflow": null,
            "overflow_x": null,
            "overflow_y": null,
            "padding": null,
            "right": null,
            "top": null,
            "visibility": null,
            "width": null
          }
        },
        "e95c6cf7ac1f4f6d8c992e23456aaefb": {
          "model_module": "@jupyter-widgets/controls",
          "model_name": "ProgressStyleModel",
          "model_module_version": "1.5.0",
          "state": {
            "_model_module": "@jupyter-widgets/controls",
            "_model_module_version": "1.5.0",
            "_model_name": "ProgressStyleModel",
            "_view_count": null,
            "_view_module": "@jupyter-widgets/base",
            "_view_module_version": "1.2.0",
            "_view_name": "StyleView",
            "bar_color": null,
            "description_width": ""
          }
        },
        "c2a61ec35177472fb307d9af33a8f9b3": {
          "model_module": "@jupyter-widgets/base",
          "model_name": "LayoutModel",
          "model_module_version": "1.2.0",
          "state": {
            "_model_module": "@jupyter-widgets/base",
            "_model_module_version": "1.2.0",
            "_model_name": "LayoutModel",
            "_view_count": null,
            "_view_module": "@jupyter-widgets/base",
            "_view_module_version": "1.2.0",
            "_view_name": "LayoutView",
            "align_content": null,
            "align_items": null,
            "align_self": null,
            "border": null,
            "bottom": null,
            "display": null,
            "flex": null,
            "flex_flow": null,
            "grid_area": null,
            "grid_auto_columns": null,
            "grid_auto_flow": null,
            "grid_auto_rows": null,
            "grid_column": null,
            "grid_gap": null,
            "grid_row": null,
            "grid_template_areas": null,
            "grid_template_columns": null,
            "grid_template_rows": null,
            "height": null,
            "justify_content": null,
            "justify_items": null,
            "left": null,
            "margin": null,
            "max_height": null,
            "max_width": null,
            "min_height": null,
            "min_width": null,
            "object_fit": null,
            "object_position": null,
            "order": null,
            "overflow": null,
            "overflow_x": null,
            "overflow_y": null,
            "padding": null,
            "right": null,
            "top": null,
            "visibility": null,
            "width": null
          }
        },
        "4b877c43690c4d4bbc045a86da1ba194": {
          "model_module": "@jupyter-widgets/controls",
          "model_name": "DescriptionStyleModel",
          "model_module_version": "1.5.0",
          "state": {
            "_model_module": "@jupyter-widgets/controls",
            "_model_module_version": "1.5.0",
            "_model_name": "DescriptionStyleModel",
            "_view_count": null,
            "_view_module": "@jupyter-widgets/base",
            "_view_module_version": "1.2.0",
            "_view_name": "StyleView",
            "description_width": ""
          }
        },
        "d3ac0da0bfb247ff9b0d873a5da9a798": {
          "model_module": "@jupyter-widgets/controls",
          "model_name": "HBoxModel",
          "model_module_version": "1.5.0",
          "state": {
            "_dom_classes": [],
            "_model_module": "@jupyter-widgets/controls",
            "_model_module_version": "1.5.0",
            "_model_name": "HBoxModel",
            "_view_count": null,
            "_view_module": "@jupyter-widgets/controls",
            "_view_module_version": "1.5.0",
            "_view_name": "HBoxView",
            "box_style": "",
            "children": [
              "IPY_MODEL_3e34f89869e842dfac1270d747f51814",
              "IPY_MODEL_789693ce9dbf4de6931b92fab43fdb87",
              "IPY_MODEL_9db0ad2eb65741b1ab93e3966c3e1363"
            ],
            "layout": "IPY_MODEL_05f8915c08a2498f8cae856696e3ca54"
          }
        },
        "3e34f89869e842dfac1270d747f51814": {
          "model_module": "@jupyter-widgets/controls",
          "model_name": "HTMLModel",
          "model_module_version": "1.5.0",
          "state": {
            "_dom_classes": [],
            "_model_module": "@jupyter-widgets/controls",
            "_model_module_version": "1.5.0",
            "_model_name": "HTMLModel",
            "_view_count": null,
            "_view_module": "@jupyter-widgets/controls",
            "_view_module_version": "1.5.0",
            "_view_name": "HTMLView",
            "description": "",
            "description_tooltip": null,
            "layout": "IPY_MODEL_97e79614d00e4b13a7d0ce8c58d1be04",
            "placeholder": "​",
            "style": "IPY_MODEL_aeee10c102e44b8ebb3020385eb055de",
            "value": "Downloading: 100%"
          }
        },
        "789693ce9dbf4de6931b92fab43fdb87": {
          "model_module": "@jupyter-widgets/controls",
          "model_name": "FloatProgressModel",
          "model_module_version": "1.5.0",
          "state": {
            "_dom_classes": [],
            "_model_module": "@jupyter-widgets/controls",
            "_model_module_version": "1.5.0",
            "_model_name": "FloatProgressModel",
            "_view_count": null,
            "_view_module": "@jupyter-widgets/controls",
            "_view_module_version": "1.5.0",
            "_view_name": "ProgressView",
            "bar_style": "success",
            "description": "",
            "description_tooltip": null,
            "layout": "IPY_MODEL_3ab975d9fb624f73a19817ff97bfcfef",
            "max": 501200538,
            "min": 0,
            "orientation": "horizontal",
            "style": "IPY_MODEL_992a7d81f3d54b4e8f11a4923489de1a",
            "value": 501200538
          }
        },
        "9db0ad2eb65741b1ab93e3966c3e1363": {
          "model_module": "@jupyter-widgets/controls",
          "model_name": "HTMLModel",
          "model_module_version": "1.5.0",
          "state": {
            "_dom_classes": [],
            "_model_module": "@jupyter-widgets/controls",
            "_model_module_version": "1.5.0",
            "_model_name": "HTMLModel",
            "_view_count": null,
            "_view_module": "@jupyter-widgets/controls",
            "_view_module_version": "1.5.0",
            "_view_name": "HTMLView",
            "description": "",
            "description_tooltip": null,
            "layout": "IPY_MODEL_9f994de807d54a118d16e1af9929e33d",
            "placeholder": "​",
            "style": "IPY_MODEL_855faf42e3e04de4bd58ac6c7dae93fd",
            "value": " 478M/478M [00:22&lt;00:00, 47.7MB/s]"
          }
        },
        "05f8915c08a2498f8cae856696e3ca54": {
          "model_module": "@jupyter-widgets/base",
          "model_name": "LayoutModel",
          "model_module_version": "1.2.0",
          "state": {
            "_model_module": "@jupyter-widgets/base",
            "_model_module_version": "1.2.0",
            "_model_name": "LayoutModel",
            "_view_count": null,
            "_view_module": "@jupyter-widgets/base",
            "_view_module_version": "1.2.0",
            "_view_name": "LayoutView",
            "align_content": null,
            "align_items": null,
            "align_self": null,
            "border": null,
            "bottom": null,
            "display": null,
            "flex": null,
            "flex_flow": null,
            "grid_area": null,
            "grid_auto_columns": null,
            "grid_auto_flow": null,
            "grid_auto_rows": null,
            "grid_column": null,
            "grid_gap": null,
            "grid_row": null,
            "grid_template_areas": null,
            "grid_template_columns": null,
            "grid_template_rows": null,
            "height": null,
            "justify_content": null,
            "justify_items": null,
            "left": null,
            "margin": null,
            "max_height": null,
            "max_width": null,
            "min_height": null,
            "min_width": null,
            "object_fit": null,
            "object_position": null,
            "order": null,
            "overflow": null,
            "overflow_x": null,
            "overflow_y": null,
            "padding": null,
            "right": null,
            "top": null,
            "visibility": null,
            "width": null
          }
        },
        "97e79614d00e4b13a7d0ce8c58d1be04": {
          "model_module": "@jupyter-widgets/base",
          "model_name": "LayoutModel",
          "model_module_version": "1.2.0",
          "state": {
            "_model_module": "@jupyter-widgets/base",
            "_model_module_version": "1.2.0",
            "_model_name": "LayoutModel",
            "_view_count": null,
            "_view_module": "@jupyter-widgets/base",
            "_view_module_version": "1.2.0",
            "_view_name": "LayoutView",
            "align_content": null,
            "align_items": null,
            "align_self": null,
            "border": null,
            "bottom": null,
            "display": null,
            "flex": null,
            "flex_flow": null,
            "grid_area": null,
            "grid_auto_columns": null,
            "grid_auto_flow": null,
            "grid_auto_rows": null,
            "grid_column": null,
            "grid_gap": null,
            "grid_row": null,
            "grid_template_areas": null,
            "grid_template_columns": null,
            "grid_template_rows": null,
            "height": null,
            "justify_content": null,
            "justify_items": null,
            "left": null,
            "margin": null,
            "max_height": null,
            "max_width": null,
            "min_height": null,
            "min_width": null,
            "object_fit": null,
            "object_position": null,
            "order": null,
            "overflow": null,
            "overflow_x": null,
            "overflow_y": null,
            "padding": null,
            "right": null,
            "top": null,
            "visibility": null,
            "width": null
          }
        },
        "aeee10c102e44b8ebb3020385eb055de": {
          "model_module": "@jupyter-widgets/controls",
          "model_name": "DescriptionStyleModel",
          "model_module_version": "1.5.0",
          "state": {
            "_model_module": "@jupyter-widgets/controls",
            "_model_module_version": "1.5.0",
            "_model_name": "DescriptionStyleModel",
            "_view_count": null,
            "_view_module": "@jupyter-widgets/base",
            "_view_module_version": "1.2.0",
            "_view_name": "StyleView",
            "description_width": ""
          }
        },
        "3ab975d9fb624f73a19817ff97bfcfef": {
          "model_module": "@jupyter-widgets/base",
          "model_name": "LayoutModel",
          "model_module_version": "1.2.0",
          "state": {
            "_model_module": "@jupyter-widgets/base",
            "_model_module_version": "1.2.0",
            "_model_name": "LayoutModel",
            "_view_count": null,
            "_view_module": "@jupyter-widgets/base",
            "_view_module_version": "1.2.0",
            "_view_name": "LayoutView",
            "align_content": null,
            "align_items": null,
            "align_self": null,
            "border": null,
            "bottom": null,
            "display": null,
            "flex": null,
            "flex_flow": null,
            "grid_area": null,
            "grid_auto_columns": null,
            "grid_auto_flow": null,
            "grid_auto_rows": null,
            "grid_column": null,
            "grid_gap": null,
            "grid_row": null,
            "grid_template_areas": null,
            "grid_template_columns": null,
            "grid_template_rows": null,
            "height": null,
            "justify_content": null,
            "justify_items": null,
            "left": null,
            "margin": null,
            "max_height": null,
            "max_width": null,
            "min_height": null,
            "min_width": null,
            "object_fit": null,
            "object_position": null,
            "order": null,
            "overflow": null,
            "overflow_x": null,
            "overflow_y": null,
            "padding": null,
            "right": null,
            "top": null,
            "visibility": null,
            "width": null
          }
        },
        "992a7d81f3d54b4e8f11a4923489de1a": {
          "model_module": "@jupyter-widgets/controls",
          "model_name": "ProgressStyleModel",
          "model_module_version": "1.5.0",
          "state": {
            "_model_module": "@jupyter-widgets/controls",
            "_model_module_version": "1.5.0",
            "_model_name": "ProgressStyleModel",
            "_view_count": null,
            "_view_module": "@jupyter-widgets/base",
            "_view_module_version": "1.2.0",
            "_view_name": "StyleView",
            "bar_color": null,
            "description_width": ""
          }
        },
        "9f994de807d54a118d16e1af9929e33d": {
          "model_module": "@jupyter-widgets/base",
          "model_name": "LayoutModel",
          "model_module_version": "1.2.0",
          "state": {
            "_model_module": "@jupyter-widgets/base",
            "_model_module_version": "1.2.0",
            "_model_name": "LayoutModel",
            "_view_count": null,
            "_view_module": "@jupyter-widgets/base",
            "_view_module_version": "1.2.0",
            "_view_name": "LayoutView",
            "align_content": null,
            "align_items": null,
            "align_self": null,
            "border": null,
            "bottom": null,
            "display": null,
            "flex": null,
            "flex_flow": null,
            "grid_area": null,
            "grid_auto_columns": null,
            "grid_auto_flow": null,
            "grid_auto_rows": null,
            "grid_column": null,
            "grid_gap": null,
            "grid_row": null,
            "grid_template_areas": null,
            "grid_template_columns": null,
            "grid_template_rows": null,
            "height": null,
            "justify_content": null,
            "justify_items": null,
            "left": null,
            "margin": null,
            "max_height": null,
            "max_width": null,
            "min_height": null,
            "min_width": null,
            "object_fit": null,
            "object_position": null,
            "order": null,
            "overflow": null,
            "overflow_x": null,
            "overflow_y": null,
            "padding": null,
            "right": null,
            "top": null,
            "visibility": null,
            "width": null
          }
        },
        "855faf42e3e04de4bd58ac6c7dae93fd": {
          "model_module": "@jupyter-widgets/controls",
          "model_name": "DescriptionStyleModel",
          "model_module_version": "1.5.0",
          "state": {
            "_model_module": "@jupyter-widgets/controls",
            "_model_module_version": "1.5.0",
            "_model_name": "DescriptionStyleModel",
            "_view_count": null,
            "_view_module": "@jupyter-widgets/base",
            "_view_module_version": "1.2.0",
            "_view_name": "StyleView",
            "description_width": ""
          }
        }
      }
    }
  },
  "cells": [
    {
      "cell_type": "code",
      "execution_count": null,
      "metadata": {
        "colab": {
          "base_uri": "https://localhost:8080/"
        },
        "id": "ykUmBRf2gEs9",
        "outputId": "b029a29e-8c70-49f3-b2a6-a98c2b04766f"
      },
      "outputs": [
        {
          "output_type": "stream",
          "name": "stdout",
          "text": [
            "Looking in indexes: https://pypi.org/simple, https://us-python.pkg.dev/colab-wheels/public/simple/\n",
            "Collecting transformers\n",
            "  Downloading transformers-4.19.4-py3-none-any.whl (4.2 MB)\n",
            "\u001b[K     |████████████████████████████████| 4.2 MB 5.1 MB/s \n",
            "\u001b[?25hRequirement already satisfied: importlib-metadata in /usr/local/lib/python3.7/dist-packages (from transformers) (4.11.4)\n",
            "Requirement already satisfied: tqdm>=4.27 in /usr/local/lib/python3.7/dist-packages (from transformers) (4.64.0)\n",
            "Requirement already satisfied: regex!=2019.12.17 in /usr/local/lib/python3.7/dist-packages (from transformers) (2019.12.20)\n",
            "Collecting huggingface-hub<1.0,>=0.1.0\n",
            "  Downloading huggingface_hub-0.7.0-py3-none-any.whl (86 kB)\n",
            "\u001b[K     |████████████████████████████████| 86 kB 2.9 MB/s \n",
            "\u001b[?25hCollecting tokenizers!=0.11.3,<0.13,>=0.11.1\n",
            "  Downloading tokenizers-0.12.1-cp37-cp37m-manylinux_2_12_x86_64.manylinux2010_x86_64.whl (6.6 MB)\n",
            "\u001b[K     |████████████████████████████████| 6.6 MB 19.6 MB/s \n",
            "\u001b[?25hRequirement already satisfied: filelock in /usr/local/lib/python3.7/dist-packages (from transformers) (3.7.0)\n",
            "Collecting pyyaml>=5.1\n",
            "  Downloading PyYAML-6.0-cp37-cp37m-manylinux_2_5_x86_64.manylinux1_x86_64.manylinux_2_12_x86_64.manylinux2010_x86_64.whl (596 kB)\n",
            "\u001b[K     |████████████████████████████████| 596 kB 42.5 MB/s \n",
            "\u001b[?25hRequirement already satisfied: packaging>=20.0 in /usr/local/lib/python3.7/dist-packages (from transformers) (21.3)\n",
            "Requirement already satisfied: numpy>=1.17 in /usr/local/lib/python3.7/dist-packages (from transformers) (1.21.6)\n",
            "Requirement already satisfied: requests in /usr/local/lib/python3.7/dist-packages (from transformers) (2.23.0)\n",
            "Requirement already satisfied: typing-extensions>=3.7.4.3 in /usr/local/lib/python3.7/dist-packages (from huggingface-hub<1.0,>=0.1.0->transformers) (4.2.0)\n",
            "Requirement already satisfied: pyparsing!=3.0.5,>=2.0.2 in /usr/local/lib/python3.7/dist-packages (from packaging>=20.0->transformers) (3.0.9)\n",
            "Requirement already satisfied: zipp>=0.5 in /usr/local/lib/python3.7/dist-packages (from importlib-metadata->transformers) (3.8.0)\n",
            "Requirement already satisfied: certifi>=2017.4.17 in /usr/local/lib/python3.7/dist-packages (from requests->transformers) (2022.5.18.1)\n",
            "Requirement already satisfied: urllib3!=1.25.0,!=1.25.1,<1.26,>=1.21.1 in /usr/local/lib/python3.7/dist-packages (from requests->transformers) (1.24.3)\n",
            "Requirement already satisfied: chardet<4,>=3.0.2 in /usr/local/lib/python3.7/dist-packages (from requests->transformers) (3.0.4)\n",
            "Requirement already satisfied: idna<3,>=2.5 in /usr/local/lib/python3.7/dist-packages (from requests->transformers) (2.10)\n",
            "Installing collected packages: pyyaml, tokenizers, huggingface-hub, transformers\n",
            "  Attempting uninstall: pyyaml\n",
            "    Found existing installation: PyYAML 3.13\n",
            "    Uninstalling PyYAML-3.13:\n",
            "      Successfully uninstalled PyYAML-3.13\n",
            "Successfully installed huggingface-hub-0.7.0 pyyaml-6.0 tokenizers-0.12.1 transformers-4.19.4\n"
          ]
        }
      ],
      "source": [
        "!pip install transformers\n",
        "!pip install pytorch_metric_learning"
      ]
    },
    {
      "cell_type": "code",
      "source": [
        "from torch.utils.data import Dataset, DataLoader, RandomSampler, SequentialSampler\n",
        "import pandas as pd\n",
        "import torch\n",
        "from torch.nn import functional as F\n",
        "from torch import nn\n",
        "from transformers import AutoTokenizer, AutoModel, AutoConfig"
      ],
      "metadata": {
        "id": "P9-QFPWkgLBe"
      },
      "execution_count": null,
      "outputs": []
    },
    {
      "cell_type": "markdown",
      "source": [
        "Load Pre-trained LM: roberta-base"
      ],
      "metadata": {
        "id": "3K8OyWBoiRtB"
      }
    },
    {
      "cell_type": "code",
      "source": [
        "tokenizer = AutoTokenizer.from_pretrained(\"roberta-base\")\n",
        "roberta = AutoModel.from_pretrained(\"roberta-base\")\n",
        "\n",
        "roberta = roberta.train()"
      ],
      "metadata": {
        "colab": {
          "base_uri": "https://localhost:8080/",
          "height": 229,
          "referenced_widgets": [
            "03a37e37e1ce443ebbd982b3f2df7221",
            "b9326fdae4874ac5bad67141e0969777",
            "57119bb6f8fe4a858b8abf092dc44b12",
            "fbcf5e209ee545ff9e3ef7aa9d8b5ec0",
            "f884aab2da5746df8050913fe970ae96",
            "a4dd8aa8294d47889ed114e6f4152672",
            "7febf24ac913406792793189c94dd2c5",
            "958498b6800f4139b707cf4fb1fdfbc2",
            "65cc2996756b4bdbaefc0d105ee7b37e",
            "93f67c59b9fd4f978e5d98ea8b044e49",
            "8e38f56970fb4beda0d351f881f60de0",
            "73503d0261ca42088c7e1763cdd43cc8",
            "16f31cb4b6b24d0da649d9f61d58bb0f",
            "93db4bff5b0344adaf0401bd1eca7c75",
            "a76af56fc3834df5bf5bee140219794a",
            "a44d2b846f7b4e9a9e9956e90767f252",
            "040f691be65746d58cdfe4c9570e3791",
            "adbff90a935b4123b92aeea064256fae",
            "fde7f29a23c048faaf0549c875619615",
            "aa2a3686ff4049ec9eed607b41bfb8e1",
            "5aad818bd11f41088a527f4002261995",
            "38f12dac16e04466ba232806c2c11dc4",
            "8ed81c2b6666424ab7a8ed98bbe93367",
            "2da32547f57f48c0bdeaa5e6fcdd08ed",
            "c2e0362767cf4f23acb979a577e804f5",
            "9bed38d541f74952bc3586d8f4033090",
            "741ec776456f471ba45d8ec9a4e09143",
            "1464cfb63e02443ba86de241558b6e57",
            "616bc20ff10f45a4838a46eb9afec250",
            "5f8bc04b6c6c4de3bc828dd321341c20",
            "7763832156124090be8153a64ed85b97",
            "d7fb851b45ae440a9191d5c4e8efec55",
            "8aa51e3a86e044abad2f801147cf8452",
            "69b64218aa8e4a37a43dbe43e17b1343",
            "94580449cdcd447e87752be9cc8d099a",
            "6ff1dc53878c4575af8616d6bb5e975d",
            "8cffb8286a2d48038f9655f345f78e83",
            "3ea1cc1b12b644faaf982e948aba0c61",
            "a31895e060f540748f15b0e41fed517b",
            "b66c7dea0e97438eb023bb6e600c37ec",
            "9aba86f4a9a04fa78167ed67c7beb662",
            "e95c6cf7ac1f4f6d8c992e23456aaefb",
            "c2a61ec35177472fb307d9af33a8f9b3",
            "4b877c43690c4d4bbc045a86da1ba194",
            "d3ac0da0bfb247ff9b0d873a5da9a798",
            "3e34f89869e842dfac1270d747f51814",
            "789693ce9dbf4de6931b92fab43fdb87",
            "9db0ad2eb65741b1ab93e3966c3e1363",
            "05f8915c08a2498f8cae856696e3ca54",
            "97e79614d00e4b13a7d0ce8c58d1be04",
            "aeee10c102e44b8ebb3020385eb055de",
            "3ab975d9fb624f73a19817ff97bfcfef",
            "992a7d81f3d54b4e8f11a4923489de1a",
            "9f994de807d54a118d16e1af9929e33d",
            "855faf42e3e04de4bd58ac6c7dae93fd"
          ]
        },
        "id": "E6x75cUNhFQP",
        "outputId": "c6323c54-0303-463e-bebc-2c4628e9c4f3"
      },
      "execution_count": null,
      "outputs": [
        {
          "output_type": "display_data",
          "data": {
            "text/plain": [
              "Downloading:   0%|          | 0.00/481 [00:00<?, ?B/s]"
            ],
            "application/vnd.jupyter.widget-view+json": {
              "version_major": 2,
              "version_minor": 0,
              "model_id": "03a37e37e1ce443ebbd982b3f2df7221"
            }
          },
          "metadata": {}
        },
        {
          "output_type": "display_data",
          "data": {
            "text/plain": [
              "Downloading:   0%|          | 0.00/878k [00:00<?, ?B/s]"
            ],
            "application/vnd.jupyter.widget-view+json": {
              "version_major": 2,
              "version_minor": 0,
              "model_id": "73503d0261ca42088c7e1763cdd43cc8"
            }
          },
          "metadata": {}
        },
        {
          "output_type": "display_data",
          "data": {
            "text/plain": [
              "Downloading:   0%|          | 0.00/446k [00:00<?, ?B/s]"
            ],
            "application/vnd.jupyter.widget-view+json": {
              "version_major": 2,
              "version_minor": 0,
              "model_id": "8ed81c2b6666424ab7a8ed98bbe93367"
            }
          },
          "metadata": {}
        },
        {
          "output_type": "display_data",
          "data": {
            "text/plain": [
              "Downloading:   0%|          | 0.00/1.29M [00:00<?, ?B/s]"
            ],
            "application/vnd.jupyter.widget-view+json": {
              "version_major": 2,
              "version_minor": 0,
              "model_id": "69b64218aa8e4a37a43dbe43e17b1343"
            }
          },
          "metadata": {}
        },
        {
          "output_type": "display_data",
          "data": {
            "text/plain": [
              "Downloading:   0%|          | 0.00/478M [00:00<?, ?B/s]"
            ],
            "application/vnd.jupyter.widget-view+json": {
              "version_major": 2,
              "version_minor": 0,
              "model_id": "d3ac0da0bfb247ff9b0d873a5da9a798"
            }
          },
          "metadata": {}
        },
        {
          "output_type": "stream",
          "name": "stderr",
          "text": [
            "Some weights of the model checkpoint at roberta-base were not used when initializing RobertaModel: ['lm_head.layer_norm.weight', 'lm_head.bias', 'lm_head.layer_norm.bias', 'lm_head.decoder.weight', 'lm_head.dense.weight', 'lm_head.dense.bias']\n",
            "- This IS expected if you are initializing RobertaModel from the checkpoint of a model trained on another task or with another architecture (e.g. initializing a BertForSequenceClassification model from a BertForPreTraining model).\n",
            "- This IS NOT expected if you are initializing RobertaModel from the checkpoint of a model that you expect to be exactly identical (initializing a BertForSequenceClassification model from a BertForSequenceClassification model).\n"
          ]
        }
      ]
    },
    {
      "cell_type": "markdown",
      "source": [
        "Dataset Loader"
      ],
      "metadata": {
        "id": "tcYzRH6HxRX9"
      }
    },
    {
      "cell_type": "code",
      "source": [
        "class CustomDataset_train(Dataset):\n",
        "\n",
        "    def __init__(self, dataframe, tokenizer, max_len, lab2ind):\n",
        "        self.tokenizer = tokenizer\n",
        "        self.data = dataframe\n",
        "        self.comment_text = self.data.content\n",
        "        self.labels = self.data.label\n",
        "        self.max_len = max_len\n",
        "        self.lab2ind = lab2ind\n",
        "\n",
        "    def __len__(self):\n",
        "        return len(self.comment_text)\n",
        "\n",
        "    def __getitem__(self, index):\n",
        "        comment_text = str(self.comment_text[index])     \n",
        "        comment_text_augmented = comment_text\n",
        "        \n",
        "        label = str(self.labels[index])\n",
        "        label = self.lab2ind[label]\n",
        "        \n",
        "        inputs = self.tokenizer.batch_encode_plus(\n",
        "            [comment_text, comment_text_augmented],\n",
        "            add_special_tokens=True,\n",
        "            max_length=self.max_len,\n",
        "            padding='max_length',\n",
        "            return_token_type_ids=False,\n",
        "            truncation=True\n",
        "        )\n",
        "        ids = inputs['input_ids']\n",
        "        mask = inputs['attention_mask']\n",
        "\n",
        "        return {\n",
        "            'ids': torch.tensor(ids, dtype=torch.long),\n",
        "            'mask': torch.tensor(mask, dtype=torch.long),\n",
        "            'targets': torch.tensor(label, dtype=torch.long)\n",
        "        }\n",
        "\n",
        "\n",
        "def regular_encode(file_path, tokenizer, lab2ind, shuffle=True, num_workers = 2, batch_size=64, maxlen = 32):\n",
        "    # Use pandas to load dataset\n",
        "    df = pd.read_csv(file_path, delimiter='\\t',header=0, names=['content', 'label'], encoding='utf-8', quotechar=None, quoting=3)\n",
        "    custom_set = CustomDataset_train(df, tokenizer, maxlen,lab2ind)\n",
        "        \n",
        "    print(\"{} Dataset: {}\".format(file_path, df.shape))\n",
        "    \n",
        "    dataset_params = {'batch_size': batch_size, 'shuffle': shuffle, 'num_workers': num_workers}\n",
        "\n",
        "    batch_data_loader = DataLoader(custom_set, **dataset_params)\n",
        "    \n",
        "    return batch_data_loader"
      ],
      "metadata": {
        "id": "wC6Hepl3iJxc"
      },
      "execution_count": null,
      "outputs": []
    },
    {
      "cell_type": "code",
      "source": [
        "train_dataloader = regular_encode(\"/content/drive/MyDrive/Colab_Notebooks/happy_db/train.tsv\", tokenizer, {\"yes\": 1, \"no\": 0}, True, batch_size= 8, maxlen = 128)"
      ],
      "metadata": {
        "colab": {
          "base_uri": "https://localhost:8080/"
        },
        "id": "seB5ACCYi00A",
        "outputId": "8cf818bd-0ffb-4b8a-b855-2276ac39bdc6"
      },
      "execution_count": null,
      "outputs": [
        {
          "output_type": "stream",
          "name": "stdout",
          "text": [
            "/content/drive/MyDrive/Colab_Notebooks/happy_db/train.tsv Dataset: (8448, 2)\n"
          ]
        }
      ]
    },
    {
      "cell_type": "code",
      "source": [
        "batch = next(iter(train_dataloader))"
      ],
      "metadata": {
        "id": "t70w1Ltwj9Xf"
      },
      "execution_count": null,
      "outputs": []
    },
    {
      "cell_type": "code",
      "source": [
        "print(batch.keys())"
      ],
      "metadata": {
        "colab": {
          "base_uri": "https://localhost:8080/"
        },
        "id": "xv-vLcVDkgh5",
        "outputId": "b67389cf-bb70-4d5a-b804-1885728ab0d4"
      },
      "execution_count": null,
      "outputs": [
        {
          "output_type": "stream",
          "name": "stdout",
          "text": [
            "dict_keys(['ids', 'mask', 'targets'])\n"
          ]
        }
      ]
    },
    {
      "cell_type": "code",
      "source": [
        "print(batch['ids'].shape)"
      ],
      "metadata": {
        "colab": {
          "base_uri": "https://localhost:8080/"
        },
        "id": "0_DnTvScmTD4",
        "outputId": "5d89c6a7-1015-4d96-caa2-6b466919f3c5"
      },
      "execution_count": null,
      "outputs": [
        {
          "output_type": "stream",
          "name": "stdout",
          "text": [
            "torch.Size([8, 2, 128])\n"
          ]
        }
      ]
    },
    {
      "cell_type": "markdown",
      "source": [
        "Reshape the inputs. \n",
        "\n",
        "input_ids = [batch_size * 2, sequence length]"
      ],
      "metadata": {
        "id": "qUMPAKECmeBa"
      }
    },
    {
      "cell_type": "code",
      "source": [
        "input_ids = batch['ids']\n",
        "input_mask = batch['mask']\n",
        "\n",
        "input_ids = input_ids.view((-1, input_ids.size(-1)))\n",
        "input_mask = input_mask.view((-1, input_ids.size(-1)))\n",
        "\n",
        "print(input_ids.shape)"
      ],
      "metadata": {
        "colab": {
          "base_uri": "https://localhost:8080/"
        },
        "id": "T2wrUZw5mVt5",
        "outputId": "99bd7a46-2d91-480c-9010-4609e4c51f84"
      },
      "execution_count": null,
      "outputs": [
        {
          "output_type": "stream",
          "name": "stdout",
          "text": [
            "torch.Size([16, 128])\n"
          ]
        }
      ]
    },
    {
      "cell_type": "markdown",
      "source": [
        "Use RoBERTa model to encode seuqences. "
      ],
      "metadata": {
        "id": "1A7vi4RvxaeO"
      }
    },
    {
      "cell_type": "code",
      "source": [
        "outputs = roberta(input_ids, attention_mask = input_mask, output_hidden_states = True)"
      ],
      "metadata": {
        "id": "tSC9jOOlk0Zp"
      },
      "execution_count": null,
      "outputs": []
    },
    {
      "cell_type": "code",
      "source": [
        "outputs.keys()"
      ],
      "metadata": {
        "colab": {
          "base_uri": "https://localhost:8080/"
        },
        "id": "Pup-AxjPlmQH",
        "outputId": "85a233b9-2adb-4525-942d-75e51b1a396e"
      },
      "execution_count": null,
      "outputs": [
        {
          "output_type": "execute_result",
          "data": {
            "text/plain": [
              "odict_keys(['last_hidden_state', 'pooler_output', 'hidden_states'])"
            ]
          },
          "metadata": {},
          "execution_count": 12
        }
      ]
    },
    {
      "cell_type": "markdown",
      "source": [
        "Get a seuquence representation from CLS token of each sample."
      ],
      "metadata": {
        "id": "7V4KbkP9nLLd"
      }
    },
    {
      "cell_type": "code",
      "source": [
        "cls_embedding = outputs[\"hidden_states\"][-1][:, 0, :]\n",
        "print(cls_embedding.shape)"
      ],
      "metadata": {
        "colab": {
          "base_uri": "https://localhost:8080/"
        },
        "id": "HZdRhXV8nJpk",
        "outputId": "f6889a93-b6d3-488b-cfaa-cecdbc145fbf"
      },
      "execution_count": null,
      "outputs": [
        {
          "output_type": "stream",
          "name": "stdout",
          "text": [
            "torch.Size([16, 768])\n"
          ]
        }
      ]
    },
    {
      "cell_type": "code",
      "source": [
        "positive_count = 2 ## we have two views\n",
        "batch_size = 8"
      ],
      "metadata": {
        "id": "ZX2XtK-DqzsE"
      },
      "execution_count": null,
      "outputs": []
    },
    {
      "cell_type": "markdown",
      "source": [
        "## Self-Contrastive Loss (InfoNCE)\n",
        "\n",
        "\n",
        "![sscl.png](data:image/png;base64,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)"
      ],
      "metadata": {
        "id": "neogUgrwnui0"
      }
    },
    {
      "cell_type": "code",
      "source": [
        "# temperature \\tau\n",
        "temperature = 1.0"
      ],
      "metadata": {
        "id": "I3NzW8lomQiB"
      },
      "execution_count": null,
      "outputs": []
    },
    {
      "cell_type": "code",
      "source": [
        "## normalization\n",
        "cls_embedding = F.normalize(cls_embedding, dim=1, p=2) \n",
        "\n",
        "anchor_feature = cls_embedding\n",
        "contrast_feature = anchor_feature"
      ],
      "metadata": {
        "id": "juc5cTcOpeDZ"
      },
      "execution_count": null,
      "outputs": []
    },
    {
      "cell_type": "markdown",
      "source": [
        "Compute Cosine Similarity"
      ],
      "metadata": {
        "id": "oNqDpQlJsnAa"
      }
    },
    {
      "cell_type": "code",
      "source": [
        "anchor_dot_contrast = torch.div(\n",
        "    torch.matmul(anchor_feature, contrast_feature.T),\n",
        "    temperature)"
      ],
      "metadata": {
        "id": "gqDxX5_2r0Ti"
      },
      "execution_count": null,
      "outputs": []
    },
    {
      "cell_type": "code",
      "source": [
        "print(anchor_dot_contrast.shape)\n",
        "print(anchor_dot_contrast)"
      ],
      "metadata": {
        "colab": {
          "base_uri": "https://localhost:8080/"
        },
        "id": "UzYnKfB0su4H",
        "outputId": "542d794c-643f-43cb-cfc5-be5ae458b560"
      },
      "execution_count": null,
      "outputs": [
        {
          "output_type": "stream",
          "name": "stdout",
          "text": [
            "torch.Size([16, 16])\n",
            "tensor([[1.0000, 0.9947, 0.9925, 0.9909, 0.7293, 0.6883, 0.9915, 0.9799, 0.9883,\n",
            "         0.9909, 0.9921, 0.9883, 0.9870, 0.7168, 0.9941, 0.9938],\n",
            "        [0.9947, 1.0000, 0.9897, 0.9868, 0.7350, 0.6919, 0.9914, 0.9757, 0.9858,\n",
            "         0.9878, 0.9891, 0.9846, 0.9790, 0.7223, 0.9941, 0.9946],\n",
            "        [0.9925, 0.9897, 1.0000, 0.9962, 0.7286, 0.6872, 0.9922, 0.9871, 0.9924,\n",
            "         0.9946, 0.9954, 0.9929, 0.9909, 0.7167, 0.9913, 0.9913],\n",
            "        [0.9909, 0.9868, 0.9962, 1.0000, 0.7337, 0.6945, 0.9897, 0.9872, 0.9912,\n",
            "         0.9935, 0.9943, 0.9925, 0.9907, 0.7212, 0.9881, 0.9892],\n",
            "        [0.7293, 0.7350, 0.7286, 0.7337, 1.0000, 0.8885, 0.7174, 0.7372, 0.7421,\n",
            "         0.7226, 0.7240, 0.7345, 0.7253, 0.8611, 0.7300, 0.7313],\n",
            "        [0.6883, 0.6919, 0.6872, 0.6945, 0.8885, 1.0000, 0.6674, 0.7101, 0.7018,\n",
            "         0.6825, 0.6827, 0.6984, 0.6920, 0.9228, 0.6880, 0.6897],\n",
            "        [0.9915, 0.9914, 0.9922, 0.9897, 0.7174, 0.6674, 1.0000, 0.9802, 0.9871,\n",
            "         0.9913, 0.9924, 0.9870, 0.9836, 0.6970, 0.9919, 0.9923],\n",
            "        [0.9799, 0.9757, 0.9871, 0.9872, 0.7372, 0.7101, 0.9802, 1.0000, 0.9858,\n",
            "         0.9866, 0.9865, 0.9887, 0.9867, 0.7331, 0.9756, 0.9779],\n",
            "        [0.9883, 0.9858, 0.9924, 0.9912, 0.7421, 0.7018, 0.9871, 0.9858, 1.0000,\n",
            "         0.9944, 0.9924, 0.9912, 0.9875, 0.7251, 0.9872, 0.9873],\n",
            "        [0.9909, 0.9878, 0.9946, 0.9935, 0.7226, 0.6825, 0.9913, 0.9866, 0.9944,\n",
            "         1.0000, 0.9956, 0.9932, 0.9901, 0.7103, 0.9893, 0.9895],\n",
            "        [0.9921, 0.9891, 0.9954, 0.9943, 0.7240, 0.6827, 0.9924, 0.9865, 0.9924,\n",
            "         0.9956, 1.0000, 0.9952, 0.9904, 0.7092, 0.9911, 0.9912],\n",
            "        [0.9883, 0.9846, 0.9929, 0.9925, 0.7345, 0.6984, 0.9870, 0.9887, 0.9912,\n",
            "         0.9932, 0.9952, 1.0000, 0.9896, 0.7183, 0.9862, 0.9867],\n",
            "        [0.9870, 0.9790, 0.9909, 0.9907, 0.7253, 0.6920, 0.9836, 0.9867, 0.9875,\n",
            "         0.9901, 0.9904, 0.9896, 1.0000, 0.7206, 0.9821, 0.9826],\n",
            "        [0.7168, 0.7223, 0.7167, 0.7212, 0.8611, 0.9228, 0.6970, 0.7331, 0.7251,\n",
            "         0.7103, 0.7092, 0.7183, 0.7206, 1.0000, 0.7186, 0.7203],\n",
            "        [0.9941, 0.9941, 0.9913, 0.9881, 0.7300, 0.6880, 0.9919, 0.9756, 0.9872,\n",
            "         0.9893, 0.9911, 0.9862, 0.9821, 0.7186, 1.0000, 0.9965],\n",
            "        [0.9938, 0.9946, 0.9913, 0.9892, 0.7313, 0.6897, 0.9923, 0.9779, 0.9873,\n",
            "         0.9895, 0.9912, 0.9867, 0.9826, 0.7203, 0.9965, 1.0000]],\n",
            "       grad_fn=<DivBackward0>)\n"
          ]
        }
      ]
    },
    {
      "cell_type": "markdown",
      "source": [
        "Create Self-Supervised Labels\n",
        "\n",
        "Each sample only has one postive sample that is a copy of itself. "
      ],
      "metadata": {
        "id": "xtg442TKqWhG"
      }
    },
    {
      "cell_type": "code",
      "source": [
        "labels = torch.arange(batch_size).unsqueeze(1) \n",
        "\n",
        "labels = torch.cat([labels, labels], dim=1)\n",
        "print(labels.shape)\n",
        "\n",
        "labels = labels.view(-1,1)\n",
        "print(labels.shape)\n",
        "print(labels)"
      ],
      "metadata": {
        "colab": {
          "base_uri": "https://localhost:8080/"
        },
        "id": "kqnzaEOtvQKD",
        "outputId": "48154a14-c4a0-4030-84da-4713682d08e3"
      },
      "execution_count": null,
      "outputs": [
        {
          "output_type": "stream",
          "name": "stdout",
          "text": [
            "torch.Size([8, 2])\n",
            "torch.Size([16, 1])\n",
            "tensor([[0],\n",
            "        [0],\n",
            "        [1],\n",
            "        [1],\n",
            "        [2],\n",
            "        [2],\n",
            "        [3],\n",
            "        [3],\n",
            "        [4],\n",
            "        [4],\n",
            "        [5],\n",
            "        [5],\n",
            "        [6],\n",
            "        [6],\n",
            "        [7],\n",
            "        [7]])\n"
          ]
        }
      ]
    },
    {
      "cell_type": "code",
      "source": [
        "# Cell_ij produces 1 if sample i and sample j have the same label. \n",
        " \n",
        "mask = torch.eq(labels, labels.T).float()"
      ],
      "metadata": {
        "id": "LPk4INOeuVTD"
      },
      "execution_count": null,
      "outputs": []
    },
    {
      "cell_type": "code",
      "source": [
        "mask"
      ],
      "metadata": {
        "colab": {
          "base_uri": "https://localhost:8080/"
        },
        "id": "-So8f58-ucpy",
        "outputId": "fef726e7-1299-4dd1-f8f5-7b048dc10eee"
      },
      "execution_count": null,
      "outputs": [
        {
          "output_type": "execute_result",
          "data": {
            "text/plain": [
              "tensor([[1., 1., 0., 0., 0., 0., 0., 0., 0., 0., 0., 0., 0., 0., 0., 0.],\n",
              "        [1., 1., 0., 0., 0., 0., 0., 0., 0., 0., 0., 0., 0., 0., 0., 0.],\n",
              "        [0., 0., 1., 1., 0., 0., 0., 0., 0., 0., 0., 0., 0., 0., 0., 0.],\n",
              "        [0., 0., 1., 1., 0., 0., 0., 0., 0., 0., 0., 0., 0., 0., 0., 0.],\n",
              "        [0., 0., 0., 0., 1., 1., 0., 0., 0., 0., 0., 0., 0., 0., 0., 0.],\n",
              "        [0., 0., 0., 0., 1., 1., 0., 0., 0., 0., 0., 0., 0., 0., 0., 0.],\n",
              "        [0., 0., 0., 0., 0., 0., 1., 1., 0., 0., 0., 0., 0., 0., 0., 0.],\n",
              "        [0., 0., 0., 0., 0., 0., 1., 1., 0., 0., 0., 0., 0., 0., 0., 0.],\n",
              "        [0., 0., 0., 0., 0., 0., 0., 0., 1., 1., 0., 0., 0., 0., 0., 0.],\n",
              "        [0., 0., 0., 0., 0., 0., 0., 0., 1., 1., 0., 0., 0., 0., 0., 0.],\n",
              "        [0., 0., 0., 0., 0., 0., 0., 0., 0., 0., 1., 1., 0., 0., 0., 0.],\n",
              "        [0., 0., 0., 0., 0., 0., 0., 0., 0., 0., 1., 1., 0., 0., 0., 0.],\n",
              "        [0., 0., 0., 0., 0., 0., 0., 0., 0., 0., 0., 0., 1., 1., 0., 0.],\n",
              "        [0., 0., 0., 0., 0., 0., 0., 0., 0., 0., 0., 0., 1., 1., 0., 0.],\n",
              "        [0., 0., 0., 0., 0., 0., 0., 0., 0., 0., 0., 0., 0., 0., 1., 1.],\n",
              "        [0., 0., 0., 0., 0., 0., 0., 0., 0., 0., 0., 0., 0., 0., 1., 1.]])"
            ]
          },
          "metadata": {},
          "execution_count": 21
        }
      ]
    },
    {
      "cell_type": "markdown",
      "source": [
        "Set Diagonal as 0\n",
        " \n",
        "We don't need self-similarity."
      ],
      "metadata": {
        "id": "KSEaDswYwLXD"
      }
    },
    {
      "cell_type": "code",
      "source": [
        "batch_size = cls_embedding.shape[0]\n",
        "\n",
        "diagonal_mask = torch.scatter(\n",
        "            torch.ones_like(mask),\n",
        "            1,\n",
        "            torch.arange(batch_size).view(-1, 1),\n",
        "            0\n",
        "        )"
      ],
      "metadata": {
        "id": "giw0CElqutUK"
      },
      "execution_count": null,
      "outputs": []
    },
    {
      "cell_type": "code",
      "source": [
        "diagonal_mask"
      ],
      "metadata": {
        "colab": {
          "base_uri": "https://localhost:8080/"
        },
        "id": "zYCFWcJBvDeR",
        "outputId": "ea2be4cf-8077-4db0-c46d-afcccb80d24f"
      },
      "execution_count": null,
      "outputs": [
        {
          "output_type": "execute_result",
          "data": {
            "text/plain": [
              "tensor([[0., 1., 1., 1., 1., 1., 1., 1., 1., 1., 1., 1., 1., 1., 1., 1.],\n",
              "        [1., 0., 1., 1., 1., 1., 1., 1., 1., 1., 1., 1., 1., 1., 1., 1.],\n",
              "        [1., 1., 0., 1., 1., 1., 1., 1., 1., 1., 1., 1., 1., 1., 1., 1.],\n",
              "        [1., 1., 1., 0., 1., 1., 1., 1., 1., 1., 1., 1., 1., 1., 1., 1.],\n",
              "        [1., 1., 1., 1., 0., 1., 1., 1., 1., 1., 1., 1., 1., 1., 1., 1.],\n",
              "        [1., 1., 1., 1., 1., 0., 1., 1., 1., 1., 1., 1., 1., 1., 1., 1.],\n",
              "        [1., 1., 1., 1., 1., 1., 0., 1., 1., 1., 1., 1., 1., 1., 1., 1.],\n",
              "        [1., 1., 1., 1., 1., 1., 1., 0., 1., 1., 1., 1., 1., 1., 1., 1.],\n",
              "        [1., 1., 1., 1., 1., 1., 1., 1., 0., 1., 1., 1., 1., 1., 1., 1.],\n",
              "        [1., 1., 1., 1., 1., 1., 1., 1., 1., 0., 1., 1., 1., 1., 1., 1.],\n",
              "        [1., 1., 1., 1., 1., 1., 1., 1., 1., 1., 0., 1., 1., 1., 1., 1.],\n",
              "        [1., 1., 1., 1., 1., 1., 1., 1., 1., 1., 1., 0., 1., 1., 1., 1.],\n",
              "        [1., 1., 1., 1., 1., 1., 1., 1., 1., 1., 1., 1., 0., 1., 1., 1.],\n",
              "        [1., 1., 1., 1., 1., 1., 1., 1., 1., 1., 1., 1., 1., 0., 1., 1.],\n",
              "        [1., 1., 1., 1., 1., 1., 1., 1., 1., 1., 1., 1., 1., 1., 0., 1.],\n",
              "        [1., 1., 1., 1., 1., 1., 1., 1., 1., 1., 1., 1., 1., 1., 1., 0.]])"
            ]
          },
          "metadata": {},
          "execution_count": 24
        }
      ]
    },
    {
      "cell_type": "code",
      "source": [
        "## It produces 0 for the non-matching places and diagonal and 1 for matching places.\n",
        "positive_mask = mask * diagonal_mask"
      ],
      "metadata": {
        "id": "pvF0K2hLvFha"
      },
      "execution_count": null,
      "outputs": []
    },
    {
      "cell_type": "code",
      "source": [
        "positive_mask"
      ],
      "metadata": {
        "colab": {
          "base_uri": "https://localhost:8080/"
        },
        "id": "cG3KO4T8wt1J",
        "outputId": "eea17be5-e6b5-4087-8f59-f600bbdeb57f"
      },
      "execution_count": null,
      "outputs": [
        {
          "output_type": "execute_result",
          "data": {
            "text/plain": [
              "tensor([[0., 1., 0., 0., 0., 0., 0., 0., 0., 0., 0., 0., 0., 0., 0., 0.],\n",
              "        [1., 0., 0., 0., 0., 0., 0., 0., 0., 0., 0., 0., 0., 0., 0., 0.],\n",
              "        [0., 0., 0., 1., 0., 0., 0., 0., 0., 0., 0., 0., 0., 0., 0., 0.],\n",
              "        [0., 0., 1., 0., 0., 0., 0., 0., 0., 0., 0., 0., 0., 0., 0., 0.],\n",
              "        [0., 0., 0., 0., 0., 1., 0., 0., 0., 0., 0., 0., 0., 0., 0., 0.],\n",
              "        [0., 0., 0., 0., 1., 0., 0., 0., 0., 0., 0., 0., 0., 0., 0., 0.],\n",
              "        [0., 0., 0., 0., 0., 0., 0., 1., 0., 0., 0., 0., 0., 0., 0., 0.],\n",
              "        [0., 0., 0., 0., 0., 0., 1., 0., 0., 0., 0., 0., 0., 0., 0., 0.],\n",
              "        [0., 0., 0., 0., 0., 0., 0., 0., 0., 1., 0., 0., 0., 0., 0., 0.],\n",
              "        [0., 0., 0., 0., 0., 0., 0., 0., 1., 0., 0., 0., 0., 0., 0., 0.],\n",
              "        [0., 0., 0., 0., 0., 0., 0., 0., 0., 0., 0., 1., 0., 0., 0., 0.],\n",
              "        [0., 0., 0., 0., 0., 0., 0., 0., 0., 0., 1., 0., 0., 0., 0., 0.],\n",
              "        [0., 0., 0., 0., 0., 0., 0., 0., 0., 0., 0., 0., 0., 1., 0., 0.],\n",
              "        [0., 0., 0., 0., 0., 0., 0., 0., 0., 0., 0., 0., 1., 0., 0., 0.],\n",
              "        [0., 0., 0., 0., 0., 0., 0., 0., 0., 0., 0., 0., 0., 0., 0., 1.],\n",
              "        [0., 0., 0., 0., 0., 0., 0., 0., 0., 0., 0., 0., 0., 0., 1., 0.]])"
            ]
          },
          "metadata": {},
          "execution_count": 27
        }
      ]
    },
    {
      "cell_type": "markdown",
      "source": [
        "Calculate Elements of Denominator"
      ],
      "metadata": {
        "id": "GsJhg1HXzWa_"
      }
    },
    {
      "cell_type": "code",
      "source": [
        "exp_denominator = torch.exp(anchor_dot_contrast) * diagonal_mask "
      ],
      "metadata": {
        "id": "iS7sLATtwuvc"
      },
      "execution_count": null,
      "outputs": []
    },
    {
      "cell_type": "markdown",
      "source": [
        "\n",
        "![sscl.png](data:image/png;base64,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)\n",
        "\n",
        "Log(Numerator) - Log(Denominator)"
      ],
      "metadata": {
        "id": "Sb-p7vwj1HLn"
      }
    },
    {
      "cell_type": "code",
      "source": [
        "log_prob = anchor_dot_contrast - torch.log(exp_denominator.sum(1, keepdim=True))"
      ],
      "metadata": {
        "id": "v8PPGf1gyMsv"
      },
      "execution_count": null,
      "outputs": []
    },
    {
      "cell_type": "markdown",
      "source": [
        "Compute mean of log-likelihood over positive pairs"
      ],
      "metadata": {
        "id": "xMOqvAej0Amp"
      }
    },
    {
      "cell_type": "code",
      "source": [
        "log_prob_pos = (positive_mask * log_prob).sum(1)"
      ],
      "metadata": {
        "id": "fA4dInB2yR8Y"
      },
      "execution_count": null,
      "outputs": []
    },
    {
      "cell_type": "code",
      "source": [
        "loss = -1 * log_prob_pos\n",
        "loss = loss.mean()"
      ],
      "metadata": {
        "id": "e4ddso5LykK-"
      },
      "execution_count": null,
      "outputs": []
    },
    {
      "cell_type": "code",
      "source": [
        "loss"
      ],
      "metadata": {
        "colab": {
          "base_uri": "https://localhost:8080/"
        },
        "id": "ur9UuEtF0jc-",
        "outputId": "d4df8f4a-ed2c-4e42-d4bc-4e8f2307cc6d"
      },
      "execution_count": null,
      "outputs": [
        {
          "output_type": "execute_result",
          "data": {
            "text/plain": [
              "tensor(2.6643, grad_fn=<MeanBackward0>)"
            ]
          },
          "metadata": {},
          "execution_count": 32
        }
      ]
    },
    {
      "cell_type": "markdown",
      "source": [
        "We can use a python package (pytorch_metric_learning) to calculate loss "
      ],
      "metadata": {
        "id": "cP0OzZYlyIvJ"
      }
    },
    {
      "cell_type": "code",
      "source": [
        "from pytorch_metric_learning import losses"
      ],
      "metadata": {
        "id": "Oh5_sOXP12oE"
      },
      "execution_count": null,
      "outputs": []
    },
    {
      "cell_type": "markdown",
      "source": [
        "Self-Contrastive loss: [NTXentLoss](https://kevinmusgrave.github.io/pytorch-metric-learning/losses/#ntxentloss)"
      ],
      "metadata": {
        "id": "i_xqncEby3hL"
      }
    },
    {
      "cell_type": "code",
      "source": [
        "loss_fct = losses.NTXentLoss(temperature=1.0)"
      ],
      "metadata": {
        "id": "OHWETK2e2G4M"
      },
      "execution_count": null,
      "outputs": []
    },
    {
      "cell_type": "code",
      "source": [
        "loss_fct(cls_embedding, labels.squeeze(1))"
      ],
      "metadata": {
        "colab": {
          "base_uri": "https://localhost:8080/"
        },
        "id": "XjE41JIc2UD0",
        "outputId": "2182d598-007e-41da-dc3b-388832cdebd1"
      },
      "execution_count": null,
      "outputs": [
        {
          "output_type": "execute_result",
          "data": {
            "text/plain": [
              "tensor(2.6643, grad_fn=<MeanBackward0>)"
            ]
          },
          "metadata": {},
          "execution_count": 35
        }
      ]
    },
    {
      "cell_type": "markdown",
      "source": [
        "## Supervised Contrastive Loss"
      ],
      "metadata": {
        "id": "2WmeHzpEzfQE"
      }
    },
    {
      "cell_type": "markdown",
      "source": [
        "The loss function is similar to self-supervised CL but we use gold labels.\n",
        "\n",
        "![scl.png](data:image/png;base64,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)"
      ],
      "metadata": {
        "id": "MXJ1_HZhzr3O"
      }
    },
    {
      "cell_type": "markdown",
      "source": [
        "Here, we use gold labels instead of creating self-supervised labels."
      ],
      "metadata": {
        "id": "HrKXQ27X0eK5"
      }
    },
    {
      "cell_type": "code",
      "source": [
        "labels = batch['targets'].unsqueeze(1)\n",
        "labels = torch.cat([labels, labels], dim=1)\n",
        "print(labels.shape)\n",
        "\n",
        "labels = labels.view(-1, 1)\n",
        "print(labels.shape)"
      ],
      "metadata": {
        "colab": {
          "base_uri": "https://localhost:8080/"
        },
        "id": "4Wqi_6nPzqAx",
        "outputId": "ef3701c1-7bda-4503-a34a-ae41ec8a08a6"
      },
      "execution_count": null,
      "outputs": [
        {
          "output_type": "stream",
          "name": "stdout",
          "text": [
            "torch.Size([8, 2])\n",
            "torch.Size([16, 1])\n"
          ]
        }
      ]
    },
    {
      "cell_type": "markdown",
      "source": [
        "One more different: we get mean over positive pairs of each anchor. "
      ],
      "metadata": {
        "id": "6wf1vmCgrjK_"
      }
    },
    {
      "cell_type": "code",
      "source": [
        "mean_log_prob_pos = (positive_mask * log_prob).sum(1) / positive_mask.sum(1) # when we run self-SCL positive_mask.sum(1) == 1"
      ],
      "metadata": {
        "id": "iwI9dHSxrZWV"
      },
      "execution_count": null,
      "outputs": []
    },
    {
      "cell_type": "markdown",
      "source": [
        "Create a class object for our contrastive loss"
      ],
      "metadata": {
        "id": "JX55mKUirypa"
      }
    },
    {
      "cell_type": "code",
      "source": [
        "class SupConLoss(nn.Module):\n",
        "\n",
        "    def __init__(self, temperature=0.07):\n",
        "        super(SupConLoss, self).__init__()\n",
        "        self.temperature = temperature\n",
        "\n",
        "\n",
        "    def forward(self, features, labels=None, mask=None):\n",
        "\n",
        "        device = (torch.device('cuda')\n",
        "                  if features.is_cuda\n",
        "                  else torch.device('cpu'))\n",
        "\n",
        "        batch_size = features.shape[0] ## 2*N\n",
        "\n",
        "        if labels is not None and mask is not None:\n",
        "            raise ValueError('Cannot define both `labels` and `mask`')\n",
        "        elif labels is None and mask is None:\n",
        "            mask = torch.eye(batch_size, dtype=torch.float32).to(device)\n",
        "        elif labels is not None:\n",
        "            if labels.shape[0] != batch_size:\n",
        "                raise ValueError('Num of labels does not match num of features')\n",
        "\n",
        "            # Labels are equal or not.\n",
        "            mask = torch.eq(labels, labels.T).float().to(device)\n",
        "        else:\n",
        "            print(4)\n",
        "            mask = mask.float().to(device)\n",
        "\n",
        "\n",
        "        contrast_feature = features\n",
        "        anchor_feature = contrast_feature\n",
        "        anchor_count = 2 ## we have two views\n",
        "\n",
        "\n",
        "        # compute similarity\n",
        "        anchor_dot_contrast = torch.div(\n",
        "            torch.matmul(anchor_feature, contrast_feature.T),\n",
        "            self.temperature)\n",
        "\n",
        "        # Set Diagonal as 0\n",
        "        diagonal_mask = torch.scatter(\n",
        "            torch.ones_like(mask),\n",
        "            1,\n",
        "            torch.arange(batch_size).view(-1, 1).to(device),\n",
        "            0\n",
        "        )\n",
        "\n",
        "        ## It produces 0 for the non-matching places and diagonal and 1 for matching places.\n",
        "        positive_mask = mask * diagonal_mask\n",
        "\n",
        "        # Calculate Elements of Denominator\n",
        "        exp_denominator = torch.exp(anchor_dot_contrast) * diagonal_mask\n",
        "\n",
        "        ## log_prob = x - logsumexp(x1,..,xn) the equation\n",
        "        log_prob = anchor_dot_contrast - torch.log(exp_denominator.sum(1, keepdim=True))\n",
        "\n",
        "        # compute mean of log-likelihood over positive\n",
        "        mean_log_prob_pos = (positive_mask * log_prob).sum(1) / positive_mask.sum(1)\n",
        "        \n",
        "        # loss\n",
        "        loss = -1 * mean_log_prob_pos\n",
        "        loss = loss.mean()\n",
        "\n",
        "        return loss"
      ],
      "metadata": {
        "id": "l-h8mZkuz7Wl"
      },
      "execution_count": null,
      "outputs": []
    },
    {
      "cell_type": "markdown",
      "source": [
        "Use our SupConLoss class"
      ],
      "metadata": {
        "id": "PtQHYwga3bNM"
      }
    },
    {
      "cell_type": "code",
      "source": [
        "loss_fct = SupConLoss(temperature=1.0)"
      ],
      "metadata": {
        "id": "L3cqo_UWLWAy"
      },
      "execution_count": null,
      "outputs": []
    },
    {
      "cell_type": "code",
      "source": [
        "loss_fct(cls_embedding, labels = labels)"
      ],
      "metadata": {
        "colab": {
          "base_uri": "https://localhost:8080/"
        },
        "id": "rX3-f_swPeVl",
        "outputId": "4875fb80-4237-4f8b-d271-e5a424f5706a"
      },
      "execution_count": null,
      "outputs": [
        {
          "output_type": "execute_result",
          "data": {
            "text/plain": [
              "tensor(2.6674, grad_fn=<MeanBackward0>)"
            ]
          },
          "metadata": {},
          "execution_count": 39
        }
      ]
    },
    {
      "cell_type": "markdown",
      "source": [
        "We can also use [SupConLoss](https://kevinmusgrave.github.io/pytorch-metric-learning/losses/#supconloss) method from pytorch_metric_learning "
      ],
      "metadata": {
        "id": "lTZRSeoN3j7x"
      }
    },
    {
      "cell_type": "code",
      "source": [
        "loss_fct2 = losses.SupConLoss(temperature=1.0)"
      ],
      "metadata": {
        "id": "G0JKFYaRA41N"
      },
      "execution_count": null,
      "outputs": []
    },
    {
      "cell_type": "code",
      "source": [
        "loss_fct2(cls_embedding, labels = labels.squeeze(1))"
      ],
      "metadata": {
        "colab": {
          "base_uri": "https://localhost:8080/"
        },
        "id": "9vg8WYAGLddB",
        "outputId": "8e4e3567-e061-4b06-8d0e-6ec50062b28e"
      },
      "execution_count": null,
      "outputs": [
        {
          "output_type": "execute_result",
          "data": {
            "text/plain": [
              "tensor(2.6674, grad_fn=<MeanBackward0>)"
            ]
          },
          "metadata": {},
          "execution_count": 41
        }
      ]
    }
  ]
}